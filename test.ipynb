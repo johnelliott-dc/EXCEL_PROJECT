{
 "cells": [
  {
   "cell_type": "code",
   "execution_count": 9,
   "metadata": {},
   "outputs": [],
   "source": [
    "import pandas as pd\n",
    "import ast"
   ]
  },
  {
   "cell_type": "code",
   "execution_count": 26,
   "metadata": {},
   "outputs": [
    {
     "name": "stdout",
     "output_type": "stream",
     "text": [
      "0                                      TW - Institutional\n",
      "1                                      TW - Institutional\n",
      "2       TWEuropeLtd- MTF-Other,TWLLC(RegBrokerDealer)-...\n",
      "3                                      TW - Institutional\n",
      "4                                      TW - Institutional\n",
      "                              ...                        \n",
      "4372                              TWEuropeLtdSG-RMO-Other\n",
      "4373                              TWEuropeLtdHK-ATS-Other\n",
      "4374                               TWEuropeLtd- MTF-Other\n",
      "4375                              TWEuropeLtdHK-ATS-Other\n",
      "4376                          Tradeweb DIFC Limited (UAE)\n",
      "Name: product, Length: 4377, dtype: object\n",
      "0                    5bf972de-e132-11ee-8603-06f986f5c6cd\n",
      "1                    5bf972de-e132-11ee-8603-06f986f5c6cd\n",
      "2       5bf96db0-e132-11ee-8603-06f986f5c6cd,5bf96df3-...\n",
      "3                    5bf972de-e132-11ee-8603-06f986f5c6cd\n",
      "4                    5bf972de-e132-11ee-8603-06f986f5c6cd\n",
      "                              ...                        \n",
      "4372                 5bf9729a-e132-11ee-8603-06f986f5c6cd\n",
      "4373                 5bf9719c-e132-11ee-8603-06f986f5c6cd\n",
      "4374                 5bf96db0-e132-11ee-8603-06f986f5c6cd\n",
      "4375                 5bf9719c-e132-11ee-8603-06f986f5c6cd\n",
      "4376                 5bf973e2-e132-11ee-8603-06f986f5c6cd\n",
      "Name: code, Length: 4377, dtype: object\n"
     ]
    }
   ],
   "source": [
    "df_tracker = pd.read_excel('ms_mi_TW_2023 NEW.xlsx')\n",
    "df = pd.read_excel('karbon_extracts/tw_prod_cases_26072024.xlsx')\n",
    "\n",
    "all_entities = set()\n",
    "for entity_item in df_tracker['product']:\n",
    "        if isinstance(entity_item, list):\n",
    "            # If it's already a list, add each item to all_entities\n",
    "            all_entities.update(entity_item)\n",
    "        elif isinstance(entity_item, str):\n",
    "            try:\n",
    "                # Try to parse it as a string representation of a list\n",
    "                entities = ast.literal_eval(entity_item)\n",
    "                if isinstance(entities, list):\n",
    "                    all_entities.update(entities)\n",
    "                else:\n",
    "                    all_entities.add(entity_item)\n",
    "            except (ValueError, SyntaxError):\n",
    "                # If parsing fails, treat it as a single entity\n",
    "                all_entities.add(entity_item)\n",
    "        else:\n",
    "            # If it's neither a list nor a string, convert to string and add\n",
    "            all_entities.add(str(entity_item))\n",
    "df_tracker = df_tracker[df_tracker['CustomerInternalID'].notna()]\n",
    "df_tracker['code'] = df_tracker.apply(lambda row: \n",
    "    df[df['customerInternalID'] == row['CustomerInternalID']].iloc[0]['products'] \n",
    "    if not df[df['customerInternalID'] == row['CustomerInternalID']].empty \n",
    "    else \"No matching CIID found\", \n",
    "    axis=1)\n",
    "print(df_tracker['product'])\n",
    "print(df_tracker['code'])"
   ]
  },
  {
   "cell_type": "code",
   "execution_count": null,
   "metadata": {},
   "outputs": [],
   "source": []
  }
 ],
 "metadata": {
  "kernelspec": {
   "display_name": "Python 3",
   "language": "python",
   "name": "python3"
  },
  "language_info": {
   "codemirror_mode": {
    "name": "ipython",
    "version": 3
   },
   "file_extension": ".py",
   "mimetype": "text/x-python",
   "name": "python",
   "nbconvert_exporter": "python",
   "pygments_lexer": "ipython3",
   "version": "3.12.4"
  }
 },
 "nbformat": 4,
 "nbformat_minor": 2
}
